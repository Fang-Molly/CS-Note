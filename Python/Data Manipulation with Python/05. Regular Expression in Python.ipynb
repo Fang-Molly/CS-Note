{
 "cells": [
  {
   "cell_type": "markdown",
   "id": "930f731a-8b0a-4a49-b8dd-e043c5f58709",
   "metadata": {},
   "source": [
    "# Regular Expressions in Python"
   ]
  },
  {
   "cell_type": "markdown",
   "id": "0298cd23-435d-4ce2-82a9-4e60a3acfb93",
   "metadata": {},
   "source": [
    "## 1. Basic Concepts of String Manipulation"
   ]
  },
  {
   "cell_type": "markdown",
   "id": "11a64d2c-70e2-4073-859e-2a141fc4b41f",
   "metadata": {},
   "source": [
    "### 1.1 Introduction to string manipulation"
   ]
  },
  {
   "cell_type": "markdown",
   "id": "fb6e73bc-b5cb-485c-b938-cd54e34b6821",
   "metadata": {},
   "source": [
    "#### 1.1.1 Strings\n",
    "* **Quotes: single quotes `''` or double quotes `\"\"`**"
   ]
  },
  {
   "cell_type": "code",
   "execution_count": 1,
   "id": "265523d9-57e2-415d-9c24-bcd201396fb9",
   "metadata": {},
   "outputs": [],
   "source": [
    "my_string = \"This is a string\"\n",
    "my_string2 = 'This is also a string'"
   ]
  },
  {
   "cell_type": "code",
   "execution_count": 3,
   "id": "ffd38516-9ce6-4e33-9beb-9c54a154e433",
   "metadata": {},
   "outputs": [
    {
     "ename": "SyntaxError",
     "evalue": "unterminated string literal (detected at line 1) (1324863342.py, line 1)",
     "output_type": "error",
     "traceback": [
      "\u001b[0;36m  Cell \u001b[0;32mIn[3], line 1\u001b[0;36m\u001b[0m\n\u001b[0;31m    my_string = 'And this? It's the wrong string'\u001b[0m\n\u001b[0m                                                ^\u001b[0m\n\u001b[0;31mSyntaxError\u001b[0m\u001b[0;31m:\u001b[0m unterminated string literal (detected at line 1)\n"
     ]
    }
   ],
   "source": [
    "my_string = 'And this? It's the wrong string'"
   ]
  },
  {
   "cell_type": "code",
   "execution_count": 4,
   "id": "e7afa0af-8007-40b1-810f-9bcb8944d5e5",
   "metadata": {},
   "outputs": [],
   "source": [
    "my_string = \"And this? It's the correct string\""
   ]
  },
  {
   "cell_type": "markdown",
   "id": "1845bd73-a31c-45a7-b279-51bea2b17c65",
   "metadata": {},
   "source": [
    "* **Length: `len()`**"
   ]
  },
  {
   "cell_type": "code",
   "execution_count": 6,
   "id": "5bcb6fe2-c477-4ba7-9c8a-f6c36cedc2cf",
   "metadata": {},
   "outputs": [
    {
     "data": {
      "text/plain": [
       "11"
      ]
     },
     "execution_count": 6,
     "metadata": {},
     "output_type": "execute_result"
    }
   ],
   "source": [
    "my_string = \"Awesome day\"\n",
    "len(my_string)"
   ]
  },
  {
   "cell_type": "markdown",
   "id": "92e33900-def3-4a23-94f6-67c30fbe86a5",
   "metadata": {},
   "source": [
    "* **Convert to string: `str()`**"
   ]
  },
  {
   "cell_type": "code",
   "execution_count": 7,
   "id": "fc96c28c-3cb6-4e60-9997-b93c50ea9038",
   "metadata": {},
   "outputs": [
    {
     "data": {
      "text/plain": [
       "'123'"
      ]
     },
     "execution_count": 7,
     "metadata": {},
     "output_type": "execute_result"
    }
   ],
   "source": [
    "str(123)"
   ]
  },
  {
   "cell_type": "markdown",
   "id": "e1c280cc-2af5-4296-a50e-d353668a8c14",
   "metadata": {},
   "source": [
    "#### 1.1.2 Concatenation: `+` operator"
   ]
  },
  {
   "cell_type": "code",
   "execution_count": 9,
   "id": "3589250e-8836-42cb-a7d7-f95815b46f58",
   "metadata": {},
   "outputs": [
    {
     "name": "stdout",
     "output_type": "stream",
     "text": [
      "Awesome day for biking\n"
     ]
    }
   ],
   "source": [
    "my_string1 = \"Awesome day\"\n",
    "my_string2 = \"for biking\"\n",
    "print(my_string1 + \" \" + my_string2)"
   ]
  },
  {
   "cell_type": "markdown",
   "id": "2332bf1f-4d2f-46b0-afbf-8efcc05ce80c",
   "metadata": {},
   "source": [
    "#### 1.1.3 Indexing: Bracket notation `[]`\n",
    "* **Index: start from 0, reverse from -1**"
   ]
  },
  {
   "cell_type": "markdown",
   "id": "2252b4c7-8f1d-4207-96b0-e2ffc50e37b8",
   "metadata": {},
   "source": [
    "0  1  2  3  4  5  6  7  8\n",
    "M  Y  _  S  T  R  I  N  G\n",
    "-9 -8 -7 -6 -5 -4 -3 -2 -1 "
   ]
  },
  {
   "cell_type": "code",
   "execution_count": 27,
   "id": "767e7a96-6203-44e3-a196-bd20c1c7e605",
   "metadata": {},
   "outputs": [
    {
     "name": "stdout",
     "output_type": "stream",
     "text": [
      "S\n",
      "G\n"
     ]
    }
   ],
   "source": [
    "my_string = \"MY_STRING\"\n",
    "print(my_string[3])\n",
    "print(my_string[-1])"
   ]
  },
  {
   "cell_type": "markdown",
   "id": "7677ee70-c0f9-4405-9edf-91b6302082c3",
   "metadata": {},
   "source": [
    "#### 1.1.4 Slicing: Bracket notation and colon notation `[:]`\n",
    "* **Include left and exclude right**"
   ]
  },
  {
   "cell_type": "code",
   "execution_count": 28,
   "id": "dc6dc47b-ebbc-40a0-9f95-db403c6a3d0d",
   "metadata": {},
   "outputs": [
    {
     "name": "stdout",
     "output_type": "stream",
     "text": [
      "MY_\n"
     ]
    }
   ],
   "source": [
    "my_string = \"MY_STRING\"\n",
    "print(my_string[0:3])"
   ]
  },
  {
   "cell_type": "markdown",
   "id": "0365be6d-ab57-4ff4-80a0-afaec8122e87",
   "metadata": {},
   "source": [
    "* **No number means all**"
   ]
  },
  {
   "cell_type": "code",
   "execution_count": 29,
   "id": "73c2e713-470e-4c97-a7fc-6903f0d2753c",
   "metadata": {},
   "outputs": [
    {
     "name": "stdout",
     "output_type": "stream",
     "text": [
      "MY_ST\n",
      "RING\n"
     ]
    }
   ],
   "source": [
    "print(my_string[:5])\n",
    "print(my_string[5:])"
   ]
  },
  {
   "cell_type": "markdown",
   "id": "c1b49e64-0a47-47ab-94a4-d529d2c5886e",
   "metadata": {},
   "source": [
    "#### 1.1.5 Stride: `[start:end:skip]`"
   ]
  },
  {
   "cell_type": "code",
   "execution_count": 30,
   "id": "4d53b088-09d7-4089-b12b-21c42a0573a5",
   "metadata": {},
   "outputs": [
    {
     "name": "stdout",
     "output_type": "stream",
     "text": [
      "M_T\n",
      "GNIRTS_YM\n"
     ]
    }
   ],
   "source": [
    "my_string = \"MY_STRING\"\n",
    "print(my_string[0:6:2])\n",
    "print(my_string[::-1])"
   ]
  },
  {
   "cell_type": "markdown",
   "id": "81602448-3449-4108-8532-f6ce92d5c77c",
   "metadata": {},
   "source": [
    "### 1.2 String operations"
   ]
  },
  {
   "cell_type": "markdown",
   "id": "3dc574dc-95b5-417f-8cf2-e741ecb60d95",
   "metadata": {},
   "source": [
    "#### 1.2.1 Adjusting cases"
   ]
  },
  {
   "cell_type": "markdown",
   "id": "f4e37624-4b2d-4db7-b485-ac65241cc8d1",
   "metadata": {},
   "source": [
    "* **Converting to lowercase: `.lower()`**"
   ]
  },
  {
   "cell_type": "code",
   "execution_count": 16,
   "id": "3a63cabb-d9cb-4cd3-83d1-b26f5a5de6e3",
   "metadata": {},
   "outputs": [
    {
     "name": "stdout",
     "output_type": "stream",
     "text": [
      "this is a nice string\n"
     ]
    }
   ],
   "source": [
    "my_string = \"tHis Is a niCe StriNg\"\n",
    "print(my_string.lower())"
   ]
  },
  {
   "cell_type": "markdown",
   "id": "bea8a46c-15d2-46e4-8971-73b9a54021b5",
   "metadata": {},
   "source": [
    "* **Converting to uppercase: `.upper()`**"
   ]
  },
  {
   "cell_type": "code",
   "execution_count": 17,
   "id": "50c87b16-cea6-42f8-ae61-70c360e2c8b8",
   "metadata": {},
   "outputs": [
    {
     "name": "stdout",
     "output_type": "stream",
     "text": [
      "THIS IS A NICE STRING\n"
     ]
    }
   ],
   "source": [
    "my_string = \"tHis Is a niCe StriNg\"\n",
    "print(my_string.upper())"
   ]
  },
  {
   "cell_type": "markdown",
   "id": "6a753aa6-a2a2-488c-882b-ad1c566d4588",
   "metadata": {},
   "source": [
    "* **Capitalizing the first character: `.capitalize()`**"
   ]
  },
  {
   "cell_type": "markdown",
   "id": "64ca6429-0121-4ab3-97d1-e6017d6a193a",
   "metadata": {},
   "source": [
    "my_string = \"tHis Is a niCe StriNg\"\n",
    "print(my_string.capitalize())"
   ]
  },
  {
   "cell_type": "markdown",
   "id": "463adfb9-20d8-4e39-bd8b-b2ae46dcd68c",
   "metadata": {},
   "source": [
    "#### 1.2.2 Splitting \n",
    "* **Splitting a string into a list of substrings: `.split()`, `.rsplit()`**"
   ]
  },
  {
   "cell_type": "code",
   "execution_count": 21,
   "id": "f6ab38f1-4941-4dee-b4dd-c5a091ad6738",
   "metadata": {},
   "outputs": [
    {
     "data": {
      "text/plain": [
       "['This', 'string', 'will be split']"
      ]
     },
     "execution_count": 21,
     "metadata": {},
     "output_type": "execute_result"
    }
   ],
   "source": [
    "my_string = \"This string will be split\"\n",
    "my_string.split(sep=\" \", maxsplit=2)"
   ]
  },
  {
   "cell_type": "code",
   "execution_count": 22,
   "id": "b161dc8a-04d0-4905-aae9-f13665f09f3e",
   "metadata": {},
   "outputs": [
    {
     "data": {
      "text/plain": [
       "['This string will', 'be', 'split']"
      ]
     },
     "execution_count": 22,
     "metadata": {},
     "output_type": "execute_result"
    }
   ],
   "source": [
    "my_string.rsplit(sep=\" \", maxsplit=2)"
   ]
  },
  {
   "cell_type": "markdown",
   "id": "2551fd45-66c5-4e08-a910-d44a0af7d900",
   "metadata": {},
   "source": [
    "* **Escape Sequence**"
   ]
  },
  {
   "cell_type": "markdown",
   "id": "55fabfaa-d9b4-4855-a300-c7e67a94f842",
   "metadata": {},
   "source": [
    "|Escape Sequence |Character       |\n",
    "|:--------------:|:--------------:|\n",
    "| `\\n`           | Newline        |\n",
    "| `\\r`           | Carriage return|"
   ]
  },
  {
   "cell_type": "code",
   "execution_count": 23,
   "id": "db3607d8-6f50-4cb6-b5ff-1269e1c8c639",
   "metadata": {},
   "outputs": [
    {
     "name": "stdout",
     "output_type": "stream",
     "text": [
      "This string will be split\n",
      "in two\n"
     ]
    }
   ],
   "source": [
    "my_string = \"This string will be split\\nin two\"\n",
    "print(my_string)"
   ]
  },
  {
   "cell_type": "code",
   "execution_count": 32,
   "id": "03d6346a-e740-4dd0-83ef-7851e5c78d84",
   "metadata": {},
   "outputs": [
    {
     "name": "stdout",
     "output_type": "stream",
     "text": [
      "in twotring will be split\n"
     ]
    }
   ],
   "source": [
    "my_string = \"This string will be split\\rin two\"\n",
    "print(my_string)"
   ]
  },
  {
   "cell_type": "markdown",
   "id": "cdb83e37-edc1-4ee1-80bb-80d0988e1f5b",
   "metadata": {},
   "source": [
    "* **Breaking at line boundaries: `.splitlines()`**"
   ]
  },
  {
   "cell_type": "code",
   "execution_count": 34,
   "id": "114d2dcf-c535-4e20-a1d0-c8f7a2946cb9",
   "metadata": {},
   "outputs": [
    {
     "data": {
      "text/plain": [
       "['This string will be split', 'in two']"
      ]
     },
     "execution_count": 34,
     "metadata": {},
     "output_type": "execute_result"
    }
   ],
   "source": [
    "my_string = \"This string will be split\\nin two\"\n",
    "my_string.splitlines()"
   ]
  },
  {
   "cell_type": "markdown",
   "id": "f454479b-6687-4eb9-80a9-c4ba439990c3",
   "metadata": {},
   "source": [
    "#### 1.2.3 Joining"
   ]
  },
  {
   "cell_type": "markdown",
   "id": "11379532-e9f8-4d84-845f-0073bb30815d",
   "metadata": {},
   "source": [
    "* **Concatenate strings from list or another iterable: `sep.join(iterable)`**"
   ]
  },
  {
   "cell_type": "code",
   "execution_count": 35,
   "id": "a2382288-7c5b-474e-a2a8-f302ed3ab931",
   "metadata": {},
   "outputs": [
    {
     "name": "stdout",
     "output_type": "stream",
     "text": [
      "this would be a string\n"
     ]
    }
   ],
   "source": [
    "my_list = [\"this\", \"would\", \"be\", \"a\", \"string\"]\n",
    "print(\" \".join(my_list))"
   ]
  },
  {
   "cell_type": "markdown",
   "id": "43d45742-1631-4441-8a64-09e772eb3754",
   "metadata": {},
   "source": [
    "#### 1.2.4 Stripping characters"
   ]
  },
  {
   "cell_type": "markdown",
   "id": "bb445999-6be5-4e73-82a0-2a8c470889c7",
   "metadata": {},
   "source": [
    "* **Strips characters from left to right: `.strip()`**     \n",
    "  Remove both the leading space and the trailing escape sequence"
   ]
  },
  {
   "cell_type": "code",
   "execution_count": 36,
   "id": "6a4bfa52-823a-4f64-b53f-927fb49e0ac7",
   "metadata": {},
   "outputs": [
    {
     "data": {
      "text/plain": [
       "'This string will be stripped'"
      ]
     },
     "execution_count": 36,
     "metadata": {},
     "output_type": "execute_result"
    }
   ],
   "source": [
    "my_string = \" This string will be stripped\\n\"\n",
    "my_string.strip()"
   ]
  },
  {
   "cell_type": "markdown",
   "id": "2368daf5-f817-4e6f-9eb9-139994b68f4d",
   "metadata": {},
   "source": [
    "* **Remove charaters from the right end**"
   ]
  },
  {
   "cell_type": "code",
   "execution_count": 37,
   "id": "7cb41274-33f3-4cf4-a471-f40cf8605db3",
   "metadata": {},
   "outputs": [
    {
     "data": {
      "text/plain": [
       "' This string will be stripped'"
      ]
     },
     "execution_count": 37,
     "metadata": {},
     "output_type": "execute_result"
    }
   ],
   "source": [
    "my_string = \" This string will be stripped\\n\"\n",
    "my_string.rstrip()"
   ]
  },
  {
   "cell_type": "markdown",
   "id": "270acdb9-fcd2-4118-891d-0e6d4d697603",
   "metadata": {},
   "source": [
    "* **Remove characters from the left end**"
   ]
  },
  {
   "cell_type": "code",
   "execution_count": 38,
   "id": "62cfb608-b551-4768-9b60-cda1b81fd9e9",
   "metadata": {},
   "outputs": [
    {
     "data": {
      "text/plain": [
       "'This string will be stripped\\n'"
      ]
     },
     "execution_count": 38,
     "metadata": {},
     "output_type": "execute_result"
    }
   ],
   "source": [
    "my_string = \" This string will be stripped\\n\"\n",
    "my_string.lstrip()"
   ]
  },
  {
   "cell_type": "markdown",
   "id": "afe3a945-1130-4b2c-b2d9-f78680718cee",
   "metadata": {},
   "source": [
    "### 1.3 Finding and replacing"
   ]
  },
  {
   "cell_type": "markdown",
   "id": "a63f7d67-dc75-4273-84b0-5e7e466e7b71",
   "metadata": {},
   "source": [
    "#### 1.3.1 Finding substrings"
   ]
  },
  {
   "cell_type": "markdown",
   "id": "04d4b94f-e3e0-40f6-8c9b-ecd8aea13f89",
   "metadata": {},
   "source": [
    "* **Search target string for a specified substring: `string.find(substring, start, end)`**"
   ]
  },
  {
   "cell_type": "code",
   "execution_count": 39,
   "id": "62be26f9-49e8-4a67-92b8-4527c4d248cb",
   "metadata": {},
   "outputs": [
    {
     "data": {
      "text/plain": [
       "8"
      ]
     },
     "execution_count": 39,
     "metadata": {},
     "output_type": "execute_result"
    }
   ],
   "source": [
    "my_string = \"Where's Waldo?\"\n",
    "my_string.find(\"Waldo\")"
   ]
  },
  {
   "cell_type": "code",
   "execution_count": 49,
   "id": "a52ef355-47fc-4ee0-863f-4eed209309a7",
   "metadata": {},
   "outputs": [
    {
     "data": {
      "text/plain": [
       "-1"
      ]
     },
     "execution_count": 49,
     "metadata": {},
     "output_type": "execute_result"
    }
   ],
   "source": [
    "my_string.find(\"Wenda\")\n",
    "# the substring is not found and the method returns minus one"
   ]
  },
  {
   "cell_type": "code",
   "execution_count": 41,
   "id": "408bd4fd-2ca0-4c21-a9ef-d0c1fcad3eba",
   "metadata": {},
   "outputs": [
    {
     "data": {
      "text/plain": [
       "-1"
      ]
     },
     "execution_count": 41,
     "metadata": {},
     "output_type": "execute_result"
    }
   ],
   "source": [
    "my_string.find(\"Waldo\", 0, 6)"
   ]
  },
  {
   "cell_type": "markdown",
   "id": "003ad346-4d56-4682-a03d-9e419cb02080",
   "metadata": {},
   "source": [
    "#### 1.3.2 Index function"
   ]
  },
  {
   "cell_type": "markdown",
   "id": "2ab92b65-7f47-4fca-b238-620805bdcec1",
   "metadata": {},
   "source": [
    "* **Search target string for a specified substring: `string.index(substring, start, end)`**"
   ]
  },
  {
   "cell_type": "code",
   "execution_count": 42,
   "id": "51f5b258-07a5-4cb1-bec0-0c2b2e0c7872",
   "metadata": {},
   "outputs": [
    {
     "data": {
      "text/plain": [
       "8"
      ]
     },
     "execution_count": 42,
     "metadata": {},
     "output_type": "execute_result"
    }
   ],
   "source": [
    "my_string = \"Where's Waldo?\"\n",
    "my_string.index(\"Waldo\")"
   ]
  },
  {
   "cell_type": "code",
   "execution_count": 50,
   "id": "396952e8-40e3-48c5-b58c-cfb8cecb967b",
   "metadata": {},
   "outputs": [
    {
     "ename": "ValueError",
     "evalue": "substring not found",
     "output_type": "error",
     "traceback": [
      "\u001b[0;31m---------------------------------------------------------------------------\u001b[0m",
      "\u001b[0;31mValueError\u001b[0m                                Traceback (most recent call last)",
      "Cell \u001b[0;32mIn[50], line 1\u001b[0m\n\u001b[0;32m----> 1\u001b[0m \u001b[43mmy_string\u001b[49m\u001b[38;5;241;43m.\u001b[39;49m\u001b[43mindex\u001b[49m\u001b[43m(\u001b[49m\u001b[38;5;124;43m\"\u001b[39;49m\u001b[38;5;124;43mWenda\u001b[39;49m\u001b[38;5;124;43m\"\u001b[39;49m\u001b[43m)\u001b[49m\n\u001b[1;32m      2\u001b[0m \u001b[38;5;66;03m# the substring is not found and the method returns error\u001b[39;00m\n",
      "\u001b[0;31mValueError\u001b[0m: substring not found"
     ]
    }
   ],
   "source": [
    "my_string.index(\"Wenda\")\n",
    "# the substring is not found and the method returns error"
   ]
  },
  {
   "cell_type": "code",
   "execution_count": 44,
   "id": "b8f97e72-3f83-4b49-9150-172547ad39aa",
   "metadata": {},
   "outputs": [
    {
     "name": "stdout",
     "output_type": "stream",
     "text": [
      "Not found\n"
     ]
    }
   ],
   "source": [
    "my_string = \"Where's Waldo?\"\n",
    "try:    \n",
    "    my_string.index(\"Wenda\")\n",
    "except ValueError:\n",
    "    print(\"Not found\")"
   ]
  },
  {
   "cell_type": "markdown",
   "id": "3cc1ee64-3b0a-4abb-b53e-7f4cc677973a",
   "metadata": {},
   "source": [
    "#### 1.3.3 Counting occurrences"
   ]
  },
  {
   "cell_type": "markdown",
   "id": "6032b97e-c4d1-45f7-9ef2-f53b779bd16f",
   "metadata": {},
   "source": [
    "* **Return number of occurrences for a specified substring: `string.count(substring, start, end)`**"
   ]
  },
  {
   "cell_type": "code",
   "execution_count": 45,
   "id": "e3e71fe1-ce7e-4ed1-a1f4-5a5ebdec7bdc",
   "metadata": {},
   "outputs": [
    {
     "data": {
      "text/plain": [
       "2"
      ]
     },
     "execution_count": 45,
     "metadata": {},
     "output_type": "execute_result"
    }
   ],
   "source": [
    "my_string = \"How many fruits do you have in your fruit basket?\"\n",
    "my_string.count(\"fruit\")"
   ]
  },
  {
   "cell_type": "code",
   "execution_count": 46,
   "id": "ba1af82f-b638-4a6c-a634-710e537b84e7",
   "metadata": {},
   "outputs": [
    {
     "data": {
      "text/plain": [
       "1"
      ]
     },
     "execution_count": 46,
     "metadata": {},
     "output_type": "execute_result"
    }
   ],
   "source": [
    "my_string.count(\"fruit\", 0, 16)"
   ]
  },
  {
   "cell_type": "markdown",
   "id": "d706d592-2a6e-4c68-a2d3-1d3e48477698",
   "metadata": {},
   "source": [
    "#### 1.3.4 Replacing substring"
   ]
  },
  {
   "cell_type": "markdown",
   "id": "9c7d2923-47b1-4a0b-9cae-b89d594f03a7",
   "metadata": {},
   "source": [
    "* **Replace occurrences of substring with new substring: `string.replace(old, new, count)`**"
   ]
  },
  {
   "cell_type": "code",
   "execution_count": 47,
   "id": "eacb78b6-b5b3-4656-80f1-78e808dd82ae",
   "metadata": {},
   "outputs": [
    {
     "name": "stdout",
     "output_type": "stream",
     "text": [
      "The red car is between the blue car and the old car\n"
     ]
    }
   ],
   "source": [
    "my_string = \"The red house is between the blue house and the old house\"\n",
    "print(my_string.replace(\"house\", \"car\"))"
   ]
  },
  {
   "cell_type": "code",
   "execution_count": 51,
   "id": "8b573fd3-7b13-409e-a920-5b8ff47aec3d",
   "metadata": {},
   "outputs": [
    {
     "name": "stdout",
     "output_type": "stream",
     "text": [
      "The red car is between the blue car and the old house\n"
     ]
    }
   ],
   "source": [
    "print(my_string.replace(\"house\", \"car\", 2))\n",
    "# replace first two occurrences"
   ]
  },
  {
   "cell_type": "markdown",
   "id": "f57b724c-817a-4c7f-a70b-6aadadb91022",
   "metadata": {},
   "source": [
    "## 2. Formatting Strings"
   ]
  },
  {
   "cell_type": "markdown",
   "id": "a2071e41-dd6c-4567-a97e-c90c14023cf9",
   "metadata": {},
   "source": [
    "### 2.1 Positional formatting"
   ]
  },
  {
   "cell_type": "markdown",
   "id": "6b24bc1f-7b74-4b52-8d89-e6935fda63b9",
   "metadata": {},
   "source": [
    "#### 2.1.1 What is string formatting?"
   ]
  },
  {
   "cell_type": "markdown",
   "id": "8c16d8f2-7dfd-4672-82f3-e24a66e097ca",
   "metadata": {},
   "source": [
    "* **String interpolation**\n",
    "* **Insert a custom string or variable in predefined text**"
   ]
  },
  {
   "cell_type": "code",
   "execution_count": 52,
   "id": "e42f630d-a96a-4b6e-934d-e1549cdde977",
   "metadata": {},
   "outputs": [
    {
     "name": "stdout",
     "output_type": "stream",
     "text": [
      "String formatting is a powerful technique\n"
     ]
    }
   ],
   "source": [
    "custom_string = \"String formatting\"\n",
    "print(f\"{custom_string} is a powerful technique\")"
   ]
  },
  {
   "cell_type": "markdown",
   "id": "4f0dbad2-483c-4b11-ab12-d8926ce8feed",
   "metadata": {},
   "source": [
    "* **Usage:**\n",
    "    * Title in a graph\n",
    "    * Show message or error\n",
    "    * Pass a statement to a function"
   ]
  },
  {
   "cell_type": "markdown",
   "id": "3ac429c5-f4f7-4442-9746-7475c5b91652",
   "metadata": {},
   "source": [
    "#### 2.1.2 Methods for formatting\n",
    "\n",
    "* Positional formatting\n",
    "* Formatted string literals\n",
    "* Template method"
   ]
  },
  {
   "cell_type": "markdown",
   "id": "b1a6fcf0-cfe8-41ba-9ef5-310c1093cab3",
   "metadata": {},
   "source": [
    "#### 2.1.3 Positional formatting: `str.format()`\n",
    "\n",
    "* Placeholder replace by value: `'text{}'.format(value)`"
   ]
  },
  {
   "cell_type": "code",
   "execution_count": 53,
   "id": "3a282b38-c27d-4df6-afd7-a726c9d528dc",
   "metadata": {},
   "outputs": [
    {
     "name": "stdout",
     "output_type": "stream",
     "text": [
      "Machine learning provides systems the ability to learn automatically\n"
     ]
    }
   ],
   "source": [
    "print(\"Machine learning provides {} the ability to learn {}\".format(\"systems\", \"automatically\"))"
   ]
  },
  {
   "cell_type": "markdown",
   "id": "ea5ae80b-f4d9-4bbc-931a-19a488099ad8",
   "metadata": {},
   "source": [
    "* Use variables for both the initial string and the values passed into the method"
   ]
  },
  {
   "cell_type": "code",
   "execution_count": 54,
   "id": "b436461d-6bb2-49fd-aa8f-d88585775898",
   "metadata": {},
   "outputs": [
    {
     "name": "stdout",
     "output_type": "stream",
     "text": [
      "Supervised algorithms rely on labeled datasets\n"
     ]
    }
   ],
   "source": [
    "my_string = \"{} rely on {} datasets\"\n",
    "method = \"Supervised algorithms\"\n",
    "condition = \"labeled\"\n",
    "print(my_string.format(method, condition))"
   ]
  },
  {
   "cell_type": "markdown",
   "id": "d69b5bcf-01e1-42a5-b1c1-227481500d32",
   "metadata": {},
   "source": [
    "#### 2.1.4 Reordering values"
   ]
  },
  {
   "cell_type": "markdown",
   "id": "e4871e5a-c82c-4c51-ba15-68a13d2b14bb",
   "metadata": {},
   "source": [
    "* Include an index number into the placeholders to reorder values"
   ]
  },
  {
   "cell_type": "code",
   "execution_count": 55,
   "id": "c6e233fc-edc6-4ff1-b643-63a2867b7ded",
   "metadata": {},
   "outputs": [
    {
     "name": "stdout",
     "output_type": "stream",
     "text": [
      "Betty has a friend called Linda and a sister called Daisy\n"
     ]
    }
   ],
   "source": [
    "print(\"{} has a friend called {} and a sister called {}\".format(\"Betty\", \"Linda\", \"Daisy\"))"
   ]
  },
  {
   "cell_type": "code",
   "execution_count": 56,
   "id": "ebdf8900-ca16-4d8c-9cef-06bc69e74ee7",
   "metadata": {},
   "outputs": [
    {
     "name": "stdout",
     "output_type": "stream",
     "text": [
      "Daisy has a friend called Betty and a sister called Linda\n"
     ]
    }
   ],
   "source": [
    "print(\"{2} has a friend called {0} and a sister called {1}\".format(\"Betty\", \"Linda\", \"Daisy\"))"
   ]
  },
  {
   "cell_type": "markdown",
   "id": "c510157d-2d88-474d-b8c6-2f39815b919c",
   "metadata": {},
   "source": [
    "#### 2.1.5 Named placeholders: specify a name for the placeholders"
   ]
  },
  {
   "cell_type": "code",
   "execution_count": 57,
   "id": "9fc513f9-7c3e-4728-b892-8170dc251a08",
   "metadata": {},
   "outputs": [
    {
     "name": "stdout",
     "output_type": "stream",
     "text": [
      "Unsupervised algorithms try to find patterns in the dataset\n"
     ]
    }
   ],
   "source": [
    "tool=\"Unsupervised algorithms\"\n",
    "goal=\"patterns\"\n",
    "print(\"{title} try to find {aim} in the dataset\".format(title=tool, aim=goal))"
   ]
  },
  {
   "cell_type": "code",
   "execution_count": 58,
   "id": "f7afbbee-90a6-4bc4-b01d-7c34dd4c6a91",
   "metadata": {},
   "outputs": [
    {
     "name": "stdout",
     "output_type": "stream",
     "text": [
      "Unsupervised algorithms try to find patterns in the dataset\n"
     ]
    }
   ],
   "source": [
    "my_methods = {\"tool\": \"Unsupervised algorithms\", \"goal\": \"patterns\"}\n",
    "print('{data[tool]} try to find {data[goal]} in the dataset'.format(data=my_methods))"
   ]
  },
  {
   "cell_type": "markdown",
   "id": "5733080b-fae6-4318-8d68-969ac150cd92",
   "metadata": {},
   "source": [
    "#### 2.1.6 Format specifier"
   ]
  },
  {
   "cell_type": "markdown",
   "id": "a9d948a1-ef46-436c-b6bc-25063178dabc",
   "metadata": {},
   "source": [
    "* Specify data type to be used: `{index:specifier}`"
   ]
  },
  {
   "cell_type": "code",
   "execution_count": 59,
   "id": "d12aa1da-d132-4d5d-adf4-8f017ed0667b",
   "metadata": {},
   "outputs": [
    {
     "name": "stdout",
     "output_type": "stream",
     "text": [
      "Only 0.515567% of the data produced worldwide is analyzed!\n"
     ]
    }
   ],
   "source": [
    "print(\"Only {0:f}% of the {1} produced worldwide is {2}!\".format(0.5155675, \"data\", \"analyzed\"))"
   ]
  },
  {
   "cell_type": "code",
   "execution_count": 61,
   "id": "fc7422a1-ee5c-477c-8d19-871f14002e53",
   "metadata": {},
   "outputs": [
    {
     "name": "stdout",
     "output_type": "stream",
     "text": [
      "Only 0.52% of the data produced worldwide is analyzed!\n"
     ]
    }
   ],
   "source": [
    "print(\"Only {0:.2f}% of the {1} produced worldwide is {2}!\".format(0.5155675, \"data\", \"analyzed\"))"
   ]
  },
  {
   "cell_type": "markdown",
   "id": "a8c755f1-be6d-4f6e-8d41-621a4405c377",
   "metadata": {},
   "source": [
    "#### 2.1.7 Formatting datetime"
   ]
  },
  {
   "cell_type": "code",
   "execution_count": 62,
   "id": "2760e8ab-0ad9-41f9-aac4-8d387d87d10d",
   "metadata": {},
   "outputs": [
    {
     "name": "stdout",
     "output_type": "stream",
     "text": [
      "2023-07-11 15:30:53.090008\n"
     ]
    }
   ],
   "source": [
    "from datetime import datetime\n",
    "print(datetime.now())"
   ]
  },
  {
   "cell_type": "code",
   "execution_count": 63,
   "id": "4327212c-a3b5-43dd-9668-058ea1081646",
   "metadata": {},
   "outputs": [
    {
     "name": "stdout",
     "output_type": "stream",
     "text": [
      "Today's date is 2023-07-11 15:31\n"
     ]
    }
   ],
   "source": [
    "print(\"Today's date is {:%Y-%m-%d %H:%M}\".format(datetime.now()))"
   ]
  },
  {
   "cell_type": "markdown",
   "id": "e7c5d968-b2a4-4497-be26-3de7f8eaec26",
   "metadata": {},
   "source": [
    "### 2.2 Formatted string literal"
   ]
  },
  {
   "cell_type": "markdown",
   "id": "6c3fcccf-04f3-410d-a351-8023f4e3b92d",
   "metadata": {},
   "source": [
    "#### 2.2.1 f-strings"
   ]
  },
  {
   "cell_type": "markdown",
   "id": "6d84b7e7-507d-422f-8002-7be2fc3eca33",
   "metadata": {},
   "source": [
    "* Minimal syntax\n",
    "* Add prefix `f` to string: `f\"literal string {expression}\"`"
   ]
  },
  {
   "cell_type": "code",
   "execution_count": 64,
   "id": "6c927377-71dd-44e0-9316-dbb808fd1231",
   "metadata": {},
   "outputs": [
    {
     "name": "stdout",
     "output_type": "stream",
     "text": [
      "Practicing how to code is the best method for learning Python faster\n"
     ]
    }
   ],
   "source": [
    "way = \"code\"\n",
    "method = \"learning Python faster\"\n",
    "print(f\"Practicing how to {way} is the best method for {method}\")"
   ]
  },
  {
   "cell_type": "markdown",
   "id": "f96d4d06-ce35-4761-8218-85c5826b6f0b",
   "metadata": {},
   "source": [
    "#### 2.2.2 Type conversion"
   ]
  },
  {
   "cell_type": "markdown",
   "id": "a18a8ca2-f9a2-45f3-9ba6-3587f355914f",
   "metadata": {},
   "source": [
    "* Allowed conversions:\n",
    "    * `!s` (string version)\n",
    "    * `!r` (string containing a printable representation, i.e. with quotes)\n",
    "    * `!a` (same as `!r` but escape the non-ASCII characters)"
   ]
  },
  {
   "cell_type": "code",
   "execution_count": 66,
   "id": "0f4533ee-b545-472a-842e-ec90120744f7",
   "metadata": {},
   "outputs": [
    {
     "name": "stdout",
     "output_type": "stream",
     "text": [
      "Python is called 'Python' due to a comedy series\n"
     ]
    }
   ],
   "source": [
    "name = \"Python\"\n",
    "print(f\"Python is called {name!r} due to a comedy series\")"
   ]
  },
  {
   "cell_type": "markdown",
   "id": "c69c39f4-649b-4dc4-afc6-85fbf7010e12",
   "metadata": {},
   "source": [
    "#### 2.2.3 Format specifiers\n",
    "* Standard format specifier:\n",
    "    * `e` (scientific notation, e.g. 5 10^3)\n",
    "    * `d` (digit, e.g. 4)\n",
    "    * `f` (float, e.g. 4.5353)"
   ]
  },
  {
   "cell_type": "code",
   "execution_count": 67,
   "id": "56594df7-451d-42a9-96ae-8480edc838d8",
   "metadata": {},
   "outputs": [
    {
     "name": "stdout",
     "output_type": "stream",
     "text": [
      "In the last 2 years, 90.42% of the data was produced worldwide!\n"
     ]
    }
   ],
   "source": [
    "number = 90.41890417471841\n",
    "print(f\"In the last 2 years, {number:.2f}% of the data was produced worldwide!\")"
   ]
  },
  {
   "cell_type": "markdown",
   "id": "af5cd407-06a4-4da1-b887-f328048525d0",
   "metadata": {},
   "source": [
    "* `datetime`"
   ]
  },
  {
   "cell_type": "code",
   "execution_count": 70,
   "id": "2eed097c-f98e-4e13-9e24-2e9acde1c32a",
   "metadata": {},
   "outputs": [
    {
     "name": "stdout",
     "output_type": "stream",
     "text": [
      "Today's date is July 11, 2023\n"
     ]
    }
   ],
   "source": [
    "from datetime import datetime\n",
    "my_today = datetime.now()\n",
    "print(f\"Today's date is {my_today:%B %d, %Y}\")"
   ]
  },
  {
   "cell_type": "markdown",
   "id": "83f14669-ea63-4068-94cf-48ff3bee467e",
   "metadata": {},
   "source": [
    "#### 2.2.4 Index lookups"
   ]
  },
  {
   "cell_type": "code",
   "execution_count": 71,
   "id": "67078f3b-76d1-4f1a-a461-e50cc603a801",
   "metadata": {},
   "outputs": [
    {
     "name": "stdout",
     "output_type": "stream",
     "text": [
      "Is your dad called John?\n"
     ]
    }
   ],
   "source": [
    "family = {\"dad\": \"John\", \"siblings\": \"Peter\"}\n",
    "print(\"Is your dad called {family[dad]}?\".format(family=family))"
   ]
  },
  {
   "cell_type": "markdown",
   "id": "4512cfde-c118-4ef3-9d87-74abe03ec090",
   "metadata": {},
   "source": [
    "* Use quotes for index lookups"
   ]
  },
  {
   "cell_type": "code",
   "execution_count": 92,
   "id": "eda6e6dd-7f72-4f58-98d5-053db9c5f654",
   "metadata": {},
   "outputs": [
    {
     "data": {
      "text/plain": [
       "'John'"
      ]
     },
     "execution_count": 92,
     "metadata": {},
     "output_type": "execute_result"
    }
   ],
   "source": [
    "family['dad']"
   ]
  },
  {
   "cell_type": "code",
   "execution_count": 90,
   "id": "bbd84331-2432-47a5-9f83-1c72589965be",
   "metadata": {},
   "outputs": [
    {
     "name": "stdout",
     "output_type": "stream",
     "text": [
      "Is your dad called John?\n"
     ]
    }
   ],
   "source": [
    "print(f\"Is your dad called {family['dad']}?\")"
   ]
  },
  {
   "cell_type": "markdown",
   "id": "456ff283-6ed3-4120-acb3-53a9204ca3a5",
   "metadata": {},
   "source": [
    "#### 2.2.5 Escape sequences"
   ]
  },
  {
   "cell_type": "markdown",
   "id": "90bd929e-f372-417b-82d4-e7a5524b61ed",
   "metadata": {},
   "source": [
    "* Escape sequences: backslashes `\\`"
   ]
  },
  {
   "cell_type": "code",
   "execution_count": 83,
   "id": "b45a97e7-b2bd-4903-a4cb-9215d73b0c6c",
   "metadata": {},
   "outputs": [
    {
     "ename": "SyntaxError",
     "evalue": "invalid syntax. Perhaps you forgot a comma? (1677833228.py, line 1)",
     "output_type": "error",
     "traceback": [
      "\u001b[0;36m  Cell \u001b[0;32mIn[83], line 1\u001b[0;36m\u001b[0m\n\u001b[0;31m    print(\"My dad is called \"John\"\")\u001b[0m\n\u001b[0m          ^\u001b[0m\n\u001b[0;31mSyntaxError\u001b[0m\u001b[0;31m:\u001b[0m invalid syntax. Perhaps you forgot a comma?\n"
     ]
    }
   ],
   "source": [
    "print(\"My dad is called \"John\"\")"
   ]
  },
  {
   "cell_type": "code",
   "execution_count": 85,
   "id": "e6abd8b9-d129-4cdb-b042-65603a9e7037",
   "metadata": {},
   "outputs": [
    {
     "name": "stdout",
     "output_type": "stream",
     "text": [
      "My dad is called \"John\"\n"
     ]
    }
   ],
   "source": [
    "my_string = \"My dad is called \\\"John\\\"\"\n",
    "print(my_string)"
   ]
  },
  {
   "cell_type": "markdown",
   "id": "fb015638-9113-4ccf-890f-e2306bb9dace",
   "metadata": {},
   "source": [
    "* Backslashes are not allowed in f-strings"
   ]
  },
  {
   "cell_type": "code",
   "execution_count": 87,
   "id": "5c950473-2434-4429-826f-5c3bb12be43b",
   "metadata": {},
   "outputs": [
    {
     "ename": "SyntaxError",
     "evalue": "f-string expression part cannot include a backslash (2870725557.py, line 2)",
     "output_type": "error",
     "traceback": [
      "\u001b[0;36m  Cell \u001b[0;32mIn[87], line 2\u001b[0;36m\u001b[0m\n\u001b[0;31m    print(f\"Is your dad called {family[\\\"dad\\\"]}?\")\u001b[0m\n\u001b[0m                                                  ^\u001b[0m\n\u001b[0;31mSyntaxError\u001b[0m\u001b[0;31m:\u001b[0m f-string expression part cannot include a backslash\n"
     ]
    }
   ],
   "source": [
    "family = {\"dad\": \"John\", \"siblings\": \"Peter\"}\n",
    "print(f\"Is your dad called {family[\\\"dad\\\"]}?\")"
   ]
  },
  {
   "cell_type": "code",
   "execution_count": 88,
   "id": "f3bb76e2-0da8-4d2e-a225-7a8b2b2ea870",
   "metadata": {},
   "outputs": [
    {
     "name": "stdout",
     "output_type": "stream",
     "text": [
      "Is your dad called John?\n"
     ]
    }
   ],
   "source": [
    "print(f\"Is your dad called {family['dad']}?\")"
   ]
  },
  {
   "cell_type": "markdown",
   "id": "4c9acfc3-bf8f-4c87-8ff6-992dcae7d573",
   "metadata": {},
   "source": [
    "#### 2.2.6 Inline operations"
   ]
  },
  {
   "cell_type": "markdown",
   "id": "7a61de64-977e-4738-a5b2-67415b42becb",
   "metadata": {},
   "source": [
    "* Advantage: evaluate expressions and call functions inline"
   ]
  },
  {
   "cell_type": "code",
   "execution_count": null,
   "id": "15bd506d-0054-4571-94a0-966920095579",
   "metadata": {},
   "outputs": [],
   "source": []
  },
  {
   "cell_type": "markdown",
   "id": "3df0b439-c305-44fe-85ec-a87202e945f7",
   "metadata": {},
   "source": [
    "* **Template method**"
   ]
  },
  {
   "cell_type": "code",
   "execution_count": null,
   "id": "9466e483-546d-40a8-9f5c-6bff099e8af8",
   "metadata": {},
   "outputs": [],
   "source": []
  },
  {
   "cell_type": "code",
   "execution_count": null,
   "id": "18344726-366c-4450-b24e-52e1d051a8ba",
   "metadata": {},
   "outputs": [],
   "source": []
  },
  {
   "cell_type": "code",
   "execution_count": null,
   "id": "d70fd4c8-2c20-4851-9060-70647771326e",
   "metadata": {},
   "outputs": [],
   "source": []
  },
  {
   "cell_type": "code",
   "execution_count": null,
   "id": "7dd8f848-38ec-4f4b-9883-e3a2afd7b3ec",
   "metadata": {},
   "outputs": [],
   "source": []
  },
  {
   "cell_type": "code",
   "execution_count": null,
   "id": "357289b0-5422-4afc-a3e9-bd607895933b",
   "metadata": {},
   "outputs": [],
   "source": []
  },
  {
   "cell_type": "code",
   "execution_count": null,
   "id": "4a01ef6f-8a1e-4cc7-81c5-6952d00c602d",
   "metadata": {},
   "outputs": [],
   "source": []
  },
  {
   "cell_type": "code",
   "execution_count": null,
   "id": "e76e118c-169f-4a2d-bd09-d67fe50af3a2",
   "metadata": {},
   "outputs": [],
   "source": []
  }
 ],
 "metadata": {
  "kernelspec": {
   "display_name": "Python 3 (ipykernel)",
   "language": "python",
   "name": "python3"
  },
  "language_info": {
   "codemirror_mode": {
    "name": "ipython",
    "version": 3
   },
   "file_extension": ".py",
   "mimetype": "text/x-python",
   "name": "python",
   "nbconvert_exporter": "python",
   "pygments_lexer": "ipython3",
   "version": "3.10.10"
  }
 },
 "nbformat": 4,
 "nbformat_minor": 5
}
