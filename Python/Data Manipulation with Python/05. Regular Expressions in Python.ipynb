Regular Expressions in Python
=============================

# 1. Basic Concepts of String Manipulation

## 1.1 Introduction to string manipulation

### Strings


